{
  "cells": [
    {
      "cell_type": "code",
      "source": [
        "import numpy as np\n",
        "import sklearn\n",
        "import matplotlib.pyplot as plt\n",
        "import librosa.feature\n",
        "from matplotlib.colors import ListedColormap, LinearSegmentedColormap\n",
        "import colorcet as cc\n",
        "import matplotlib\n",
        "import dss_unsupervised.spec_utils\n",
        "import umap\n",
        "import hdbscan\n",
        "from io import BytesIO\n",
        "import urllib.request\n",
        "\n",
        "plt.style.use('ncb.mplstyle')"
      ],
      "outputs": [],
      "execution_count": null,
      "metadata": {
        "execution": {
          "iopub.status.busy": "2020-08-27T08:58:36.666Z",
          "iopub.execute_input": "2020-08-27T08:58:36.671Z",
          "shell.execute_reply": "2020-08-27T08:58:41.302Z",
          "iopub.status.idle": "2020-08-27T08:58:41.280Z"
        }
      }
    },
    {
      "cell_type": "code",
      "source": [
        "# import zarr\n",
        "# store_raw = zarr.open('/Volumes/shinkansen/Dropbox/dss.paper/sober/20200412_135228.zarr')\n",
        "# fs = 32_000\n",
        "# t0 = 0\n",
        "# t1 = t0 + 50_000_000\n",
        "\n",
        "# x = store_raw['x_test'][t0:t1,0]\n",
        "# y = store_raw['labels_test'][t0:t1]\n",
        "# diff = np.diff((y>0).astype(np.double))\n",
        "# syllable_onsets = np.where(diff==1)[0]\n",
        "# syllable_offsets = np.where(diff==-1)[0]\n",
        "# syllable_types = y[syllable_onsets+10]\n",
        "\n",
        "# np.savez_compressed('data/birds.npz', recording=x, syllable_onsets=syllable_onsets, syllable_offsets=syllable_offsets, \n",
        "#                                       syllable_types=syllable_types, samplerate=fs)\n"
      ],
      "outputs": [],
      "execution_count": null,
      "metadata": {
        "tags": [],
        "execution": {
          "iopub.status.busy": "2020-08-27T08:58:41.287Z",
          "iopub.execute_input": "2020-08-27T08:58:41.294Z",
          "iopub.status.idle": "2020-08-27T08:59:16.930Z",
          "shell.execute_reply": "2020-08-27T08:59:16.969Z"
        }
      }
    },
    {
      "cell_type": "code",
      "execution_count": null,
      "metadata": {},
      "outputs": [],
      "source": [
        "url = 'http://github.com/janclemenslab/deepss-unsupervised/releases/download/v0.4/birds.npz'\n",
        "with urllib.request.urlopen(url) as f:\n",
        "    ff = BytesIO(f.read())\n",
        "\n",
        "d = np.load(ff)\n",
        "recording = d['recording']\n",
        "syllable_onsets = d['syllable_onsets']\n",
        "syllable_offsets = d['syllable_offsets']\n",
        "syllable_types = d['syllable_types']\n",
        "samplerate = d['samplerate']\n"
      ]
    },
    {
      "cell_type": "code",
      "execution_count": null,
      "metadata": {},
      "outputs": [],
      "source": [
        "import noisereduce as nr\n",
        "noise_clip = recording[:150_000]\n",
        "x_nr = nr.reduce_noise(audio_clip=recording, noise_clip=noise_clip, verbose=False)"
      ]
    },
    {
      "cell_type": "code",
      "source": [
        "\n",
        "hop_length = int(2 * samplerate / 1000)\n",
        "win_length = int(10 * samplerate / 1000 * 2)\n",
        "specgram = librosa.feature.melspectrogram(x_nr, sr=samplerate, n_fft=win_length, hop_length=hop_length, power=2)\n",
        "specgram = specgram[np.where(specgram[:,0]!=0)[0],:]\n",
        "sm = np.median(specgram, axis=1)\n",
        "print(sm.shape)\n",
        "plt.figure(figsize=(20, 2))\n",
        "plt.imshow(np.log2(specgram))\n",
        "plt.show()"
      ],
      "outputs": [],
      "execution_count": null,
      "metadata": {
        "execution": {
          "shell.execute_reply": "2020-08-27T08:59:26.243Z",
          "iopub.status.busy": "2020-08-27T08:59:16.947Z",
          "iopub.execute_input": "2020-08-27T08:59:16.956Z",
          "iopub.status.idle": "2020-08-27T08:59:26.207Z"
        },
        "tags": []
      }
    },
    {
      "cell_type": "code",
      "source": [
        "specs = [] \n",
        "\n",
        "plt.figure(figsize=(10, 10))\n",
        "for cnt, (onset, offset) in enumerate(zip(syllable_onsets, syllable_offsets)):\n",
        "    spec = np.log2(specgram[:, int(onset/hop_length):int(offset/hop_length)] / sm[:, np.newaxis])\n",
        "    spec = spec[4:-20:2, :]\n",
        "    spec = spec - 2\n",
        "    spec[spec<0] = 0\n",
        "    specs.append(spec)\n",
        "    try:\n",
        "        plt.subplot(4,4,cnt+1)\n",
        "        plt.imshow(specs[-1], cmap='jet')\n",
        "        plt.xlim(0, 50)\n",
        "        plt.colorbar()\n",
        "    except:\n",
        "        pass\n",
        "plt.show"
      ],
      "outputs": [],
      "execution_count": null,
      "metadata": {
        "execution": {
          "shell.execute_reply": "2020-08-27T09:00:16.338Z",
          "iopub.status.busy": "2020-08-27T09:00:13.812Z",
          "iopub.execute_input": "2020-08-27T09:00:13.819Z",
          "iopub.status.idle": "2020-08-27T09:00:16.312Z"
        }
      }
    },
    {
      "cell_type": "code",
      "source": [
        "spec_rs = [deepss_unsupervised.spec_utils.log_resize_spec(spec, scaling_factor=8) for spec in specs]\n",
        "\n",
        "max_len = np.max([spec.shape[1] for spec in spec_rs])\n",
        "spec_rs = [deepss_unsupervised.spec_utils.pad_spec(spec, pad_length=max_len) for spec in spec_rs]"
      ],
      "outputs": [],
      "execution_count": null,
      "metadata": {
        "tags": [],
        "execution": {
          "iopub.status.busy": "2020-08-27T09:00:16.518Z",
          "iopub.execute_input": "2020-08-27T09:00:16.522Z",
          "iopub.status.idle": "2020-08-27T09:00:17.168Z",
          "shell.execute_reply": "2020-08-27T09:00:17.173Z"
        }
      }
    },
    {
      "cell_type": "code",
      "source": [
        "spec_flat = [spec.ravel() for spec in spec_rs]\n",
        "spec_flat = np.array(spec_flat)"
      ],
      "outputs": [],
      "execution_count": null,
      "metadata": {
        "execution": {
          "iopub.status.busy": "2020-08-27T09:00:17.183Z",
          "iopub.execute_input": "2020-08-27T09:00:17.190Z",
          "iopub.status.idle": "2020-08-27T09:00:17.227Z",
          "shell.execute_reply": "2020-08-27T09:00:17.245Z"
        }
      }
    },
    {
      "cell_type": "code",
      "source": [
        "out = umap.UMAP(min_dist=0.5).fit_transform(spec_flat)\n",
        "hdbscan_labels = hdbscan.HDBSCAN(min_samples=10, min_cluster_size=20).fit_predict(out)"
      ],
      "outputs": [],
      "execution_count": null,
      "metadata": {
        "execution": {
          "iopub.status.busy": "2020-08-27T09:00:17.234Z",
          "iopub.execute_input": "2020-08-27T09:00:17.239Z",
          "iopub.status.idle": "2020-08-27T09:00:23.206Z",
          "shell.execute_reply": "2020-08-27T09:00:23.229Z"
        }
      }
    },
    {
      "cell_type": "code",
      "source": [
        "plt.figure(figsize=(8, 8))\n",
        "plt.scatter(out[:,0], out[:,1], c=syllable_types, cmap='cet_glasbey_dark', alpha=0.2, s=8)\n",
        "plt.xlabel('UMAP 1')\n",
        "plt.ylabel('UMAP 2')\n",
        "plt.title('Pre-defined syllable labels')\n",
        "plt.show()"
      ],
      "outputs": [],
      "execution_count": null,
      "metadata": {
        "tags": [],
        "execution": {
          "iopub.status.busy": "2020-08-27T09:00:23.219Z",
          "iopub.execute_input": "2020-08-27T09:00:23.223Z",
          "iopub.status.idle": "2020-08-27T09:00:23.374Z",
          "shell.execute_reply": "2020-08-27T09:00:23.397Z"
        }
      }
    },
    {
      "cell_type": "code",
      "source": [
        "plt.figure(figsize=(8, 8))\n",
        "cmap = cc.palette['glasbey_dark']\n",
        "cmap = list(cmap)\n",
        "cmap.insert(0, (0.7, 0.7, 0.7))\n",
        "cmap = ListedColormap(cmap)\n",
        "plt.scatter(out[:,0], out[:,1], c=hdbscan_labels, cmap=cmap, alpha=0.2, s=8, edgecolor='none')\n",
        "plt.xlabel('UMAP 1')\n",
        "plt.ylabel('UMAP 2')\n",
        "plt.title('Unsupervised syllable labels')\n",
        "plt.show()"
      ],
      "outputs": [],
      "execution_count": null,
      "metadata": {
        "execution": {
          "iopub.status.busy": "2020-08-27T09:00:23.380Z",
          "iopub.execute_input": "2020-08-27T09:00:23.384Z",
          "shell.execute_reply": "2020-08-27T09:00:24.001Z",
          "iopub.status.idle": "2020-08-27T09:00:23.979Z"
        }
      }
    },
    {
      "cell_type": "code",
      "source": [
        "C = sklearn.metrics.confusion_matrix(syllable_types, hdbscan_labels)\n",
        "plt.figure(figsize=(8, 6))\n",
        "plt.imshow(np.log2(C))\n",
        "plt.colorbar()\n",
        "plt.title('Confusion matrix (log scaled')\n",
        "plt.ylabel('Syllable label')\n",
        "plt.xlabel('Cluster label')\n",
        "\n",
        "print(f'Homogeneity_score: {sklearn.metrics.homogeneity_score(syllable_types, hdbscan_labels):1.2f}\\n',\n",
        "      f'Completeness_score: {sklearn.metrics.completeness_score(syllable_types, hdbscan_labels):1.2f}\\n',\n",
        "      f'V_measure_score: {sklearn.metrics.v_measure_score(syllable_types, hdbscan_labels):1.2f}')"
      ],
      "outputs": [],
      "execution_count": null,
      "metadata": {
        "execution": {
          "iopub.status.busy": "2020-08-27T09:00:23.985Z",
          "iopub.execute_input": "2020-08-27T09:00:23.989Z",
          "iopub.status.idle": "2020-08-27T09:00:24.067Z",
          "shell.execute_reply": "2020-08-27T09:00:24.090Z"
        }
      }
    },
    {
      "cell_type": "code",
      "source": [
        "  plt.figure(figsize=(8, 8))\n",
        "  for label in np.unique(hdbscan_labels):\n",
        "      if label>=0:\n",
        "        idx = np.where(hdbscan_labels==label)[0]\n",
        "        plt.subplot(7, 7, label+1)\n",
        "        plt.imshow(np.mean(np.array(spec_rs)[idx], axis=0), cmap='cet_CET_L17')\n"
      ],
      "outputs": [],
      "execution_count": null,
      "metadata": {
        "execution": {
          "iopub.status.busy": "2020-08-27T09:00:24.074Z",
          "iopub.execute_input": "2020-08-27T09:00:24.079Z",
          "iopub.status.idle": "2020-08-27T09:00:25.811Z",
          "shell.execute_reply": "2020-08-27T09:00:25.824Z"
        }
      }
    }
  ],
  "metadata": {
    "kernel_info": {
      "name": "python3"
    },
    "kernelspec": {
      "name": "Python 3.7.6 64-bit ('dss_tf21': conda)",
      "display_name": "Python 3.7.6 64-bit ('dss_tf21': conda)",
      "metadata": {
        "interpreter": {
          "hash": "42df7aaa307b3506d99484152dfd1c256295c30fa6feab510c0ef1b997889cdc"
        }
      }
    },
    "language_info": {
      "name": "python",
      "version": "3.7.6-final",
      "mimetype": "text/x-python",
      "codemirror_mode": {
        "name": "ipython",
        "version": 3
      },
      "pygments_lexer": "ipython3",
      "nbconvert_exporter": "python",
      "file_extension": ".py"
    },
    "nteract": {
      "version": "0.24.1"
    },
    "widgets": {
      "application/vnd.jupyter.widget-state+json": {
        "state": {
          "123c3506fe0a4123a5cb4bd0ebbf0711": {
            "model_module": "@jupyter-widgets/controls",
            "model_module_version": "1.5.0",
            "model_name": "DescriptionStyleModel",
            "state": {
              "_model_module": "@jupyter-widgets/controls",
              "_model_module_version": "1.5.0",
              "_model_name": "DescriptionStyleModel",
              "_view_count": null,
              "_view_module": "@jupyter-widgets/base",
              "_view_module_version": "1.2.0",
              "_view_name": "StyleView",
              "description_width": ""
            }
          },
          "2db4a4c8c4a741db818f0069a230f2f7": {
            "model_module": "@jupyter-widgets/controls",
            "model_module_version": "1.5.0",
            "model_name": "HBoxModel",
            "state": {
              "_view_module_version": "1.5.0",
              "_model_name": "HBoxModel",
              "_model_module": "@jupyter-widgets/controls",
              "_view_name": "HBoxView",
              "_view_module": "@jupyter-widgets/controls",
              "_dom_classes": [],
              "layout": "IPY_MODEL_3caa773b27364fd38173ed21589e962a",
              "_view_count": null,
              "_model_module_version": "1.5.0",
              "box_style": "",
              "children": [
                "IPY_MODEL_8dc0fcf8407a46b085e0cac24b4347cb",
                "IPY_MODEL_68166486a1864ac894978a614f16d0a3"
              ]
            }
          },
          "3caa773b27364fd38173ed21589e962a": {
            "model_module": "@jupyter-widgets/base",
            "model_module_version": "1.2.0",
            "model_name": "LayoutModel",
            "state": {
              "_view_module_version": "1.2.0",
              "_model_name": "LayoutModel",
              "grid_row": null,
              "_model_module": "@jupyter-widgets/base",
              "overflow": null,
              "max_height": null,
              "display": null,
              "grid_auto_flow": null,
              "grid_template_rows": null,
              "align_self": null,
              "grid_auto_columns": null,
              "width": null,
              "grid_area": null,
              "align_items": null,
              "_view_name": "LayoutView",
              "left": null,
              "height": null,
              "_view_module": "@jupyter-widgets/base",
              "object_position": null,
              "justify_content": null,
              "bottom": null,
              "max_width": null,
              "border": null,
              "margin": null,
              "order": null,
              "grid_column": null,
              "grid_auto_rows": null,
              "padding": null,
              "grid_template_columns": null,
              "justify_items": null,
              "object_fit": null,
              "visibility": null,
              "_view_count": null,
              "flex_flow": null,
              "min_height": null,
              "top": null,
              "min_width": null,
              "flex": null,
              "_model_module_version": "1.2.0",
              "grid_template_areas": null,
              "overflow_x": null,
              "right": null,
              "overflow_y": null,
              "grid_gap": null,
              "align_content": null
            }
          },
          "3d99753c1815404784b4f80fc71d881e": {
            "model_module": "@jupyter-widgets/base",
            "model_module_version": "1.2.0",
            "model_name": "LayoutModel",
            "state": {
              "_view_module_version": "1.2.0",
              "_model_name": "LayoutModel",
              "grid_row": null,
              "_model_module": "@jupyter-widgets/base",
              "overflow": null,
              "max_height": null,
              "display": null,
              "grid_auto_flow": null,
              "grid_template_rows": null,
              "align_self": null,
              "grid_auto_columns": null,
              "width": null,
              "grid_area": null,
              "align_items": null,
              "_view_name": "LayoutView",
              "left": null,
              "height": null,
              "_view_module": "@jupyter-widgets/base",
              "object_position": null,
              "justify_content": null,
              "bottom": null,
              "max_width": null,
              "border": null,
              "margin": null,
              "order": null,
              "grid_column": null,
              "grid_auto_rows": null,
              "padding": null,
              "grid_template_columns": null,
              "justify_items": null,
              "object_fit": null,
              "visibility": null,
              "_view_count": null,
              "flex_flow": null,
              "min_height": null,
              "top": null,
              "min_width": null,
              "flex": null,
              "_model_module_version": "1.2.0",
              "grid_template_areas": null,
              "overflow_x": null,
              "right": null,
              "overflow_y": null,
              "grid_gap": null,
              "align_content": null
            }
          },
          "68166486a1864ac894978a614f16d0a3": {
            "model_module": "@jupyter-widgets/controls",
            "model_module_version": "1.5.0",
            "model_name": "HTMLModel",
            "state": {
              "_view_module_version": "1.5.0",
              "description_tooltip": null,
              "_model_name": "HTMLModel",
              "_model_module": "@jupyter-widgets/controls",
              "_view_name": "HTMLView",
              "_view_module": "@jupyter-widgets/controls",
              "_dom_classes": [],
              "layout": "IPY_MODEL_998c2e046fc540a69743425b74532c65",
              "value": " 449/449 [16:18&lt;00:00,  2.18s/it]",
              "style": "IPY_MODEL_123c3506fe0a4123a5cb4bd0ebbf0711",
              "placeholder": "​",
              "_view_count": null,
              "_model_module_version": "1.5.0",
              "description": ""
            }
          },
          "8dc0fcf8407a46b085e0cac24b4347cb": {
            "model_module": "@jupyter-widgets/controls",
            "model_module_version": "1.5.0",
            "model_name": "FloatProgressModel",
            "state": {
              "_view_module_version": "1.5.0",
              "description_tooltip": null,
              "_model_name": "FloatProgressModel",
              "_model_module": "@jupyter-widgets/controls",
              "max": 449,
              "bar_style": "success",
              "_view_name": "ProgressView",
              "_view_module": "@jupyter-widgets/controls",
              "_dom_classes": [],
              "layout": "IPY_MODEL_3d99753c1815404784b4f80fc71d881e",
              "orientation": "horizontal",
              "value": 449,
              "style": "IPY_MODEL_a753e1ac6662434789c649c801346837",
              "min": 0,
              "_view_count": null,
              "_model_module_version": "1.5.0",
              "description": "100%"
            }
          },
          "998c2e046fc540a69743425b74532c65": {
            "model_module": "@jupyter-widgets/base",
            "model_module_version": "1.2.0",
            "model_name": "LayoutModel",
            "state": {
              "_view_module_version": "1.2.0",
              "_model_name": "LayoutModel",
              "grid_row": null,
              "_model_module": "@jupyter-widgets/base",
              "overflow": null,
              "max_height": null,
              "display": null,
              "grid_auto_flow": null,
              "grid_template_rows": null,
              "align_self": null,
              "grid_auto_columns": null,
              "width": null,
              "grid_area": null,
              "align_items": null,
              "_view_name": "LayoutView",
              "left": null,
              "height": null,
              "_view_module": "@jupyter-widgets/base",
              "object_position": null,
              "justify_content": null,
              "bottom": null,
              "max_width": null,
              "border": null,
              "margin": null,
              "order": null,
              "grid_column": null,
              "grid_auto_rows": null,
              "padding": null,
              "grid_template_columns": null,
              "justify_items": null,
              "object_fit": null,
              "visibility": null,
              "_view_count": null,
              "flex_flow": null,
              "min_height": null,
              "top": null,
              "min_width": null,
              "flex": null,
              "_model_module_version": "1.2.0",
              "grid_template_areas": null,
              "overflow_x": null,
              "right": null,
              "overflow_y": null,
              "grid_gap": null,
              "align_content": null
            }
          },
          "a753e1ac6662434789c649c801346837": {
            "model_module": "@jupyter-widgets/controls",
            "model_module_version": "1.5.0",
            "model_name": "ProgressStyleModel",
            "state": {
              "_view_module_version": "1.2.0",
              "_model_name": "ProgressStyleModel",
              "_model_module": "@jupyter-widgets/controls",
              "description_width": "initial",
              "_view_name": "StyleView",
              "_view_module": "@jupyter-widgets/base",
              "_view_count": null,
              "bar_color": null,
              "_model_module_version": "1.5.0"
            }
          }
        },
        "version_major": 2,
        "version_minor": 0
      }
    }
  },
  "nbformat": 4,
  "nbformat_minor": 4
}