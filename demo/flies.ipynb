{
  "cells": [
    {
      "cell_type": "code",
      "source": [
        "import numpy as np\n",
        "import matplotlib.pyplot as plt\n",
        "import umap\n",
        "import hdbscan\n",
        "import deepss_unsupervised.event_utils\n",
        "from io import BytesIO\n",
        "import urllib.request\n",
        "\n",
        "plt.style.use('ncb.mplstyle')"
      ],
      "outputs": [],
      "execution_count": null,
      "metadata": {
        "execution": {
          "iopub.status.busy": "2020-08-27T08:13:18.045Z",
          "iopub.execute_input": "2020-08-27T08:13:18.052Z",
          "shell.execute_reply": "2020-08-27T08:13:23.148Z",
          "iopub.status.idle": "2020-08-27T08:13:23.105Z"
        }
      }
    },
    {
      "cell_type": "code",
      "source": [
        "# import dss.utils, dss.utils_plot, dss.io, dss.data, dss.models, dss.predict, dss.train, dss.evaluate, dss.pulse_utils\n",
        "# from scipy.ndimage import minimum_filter1d\n",
        "\n",
        "# def fill_gaps(sine_pred, gap_dur=100):\n",
        "#     onsets = np.where(np.diff(sine_pred.astype(np.int))==1)[0]\n",
        "#     offsets = np.where(np.diff(sine_pred.astype(np.int))==-1)[0]\n",
        "#     if len(onsets) and len(offsets):\n",
        "#         onsets = onsets[onsets<offsets[-1]]\n",
        "#         offsets = offsets[offsets>onsets[0]]\n",
        "#         durations = offsets - onsets\n",
        "#         for idx, (onset, offset, duration) in enumerate(zip(onsets, offsets, durations)):\n",
        "#             if idx>0 and offsets[idx-1]>onsets[idx]-gap_dur:\n",
        "#                 sine_pred[offsets[idx-1]:onsets[idx]+1] = 1\n",
        "#     return sine_pred\n",
        "\n",
        "# def remove_short(sine_pred, min_len=100):\n",
        "#     # remove too short sine songs\n",
        "#     onsets = np.where(np.diff(sine_pred.astype(np.int))==1)[0]\n",
        "#     offsets = np.where(np.diff(sine_pred.astype(np.int))==-1)[0]\n",
        "#     if len(onsets) and len(offsets):\n",
        "#         onsets = onsets[onsets<offsets[-1]]\n",
        "#         offsets = offsets[offsets>onsets[0]]\n",
        "#         durations = offsets - onsets\n",
        "#         for cnt, (onset, offset, duration) in enumerate(zip(onsets, offsets, durations)):\n",
        "#             if duration<min_len:\n",
        "#                 sine_pred[onset:offset+1] = 0\n",
        "#     return sine_pred\n",
        "\n",
        "# save_name = '/Volumes/shinkansen/Dropbox/dss.paper/models/dmel_all/20200507_173738' #20200426_172237'\n",
        "# params = dss.utils.load_params(save_name)\n",
        "\n",
        "# data = dss.io.load('/Volumes/shinkansen/Dropbox/dss.paper/dat/dmel_single_stern_raw.npy', y_suffix=params['y_suffix'])\n",
        "# print(data['test']['x'].shape, data['test']['y'].shape, data['test']['y_pulse'].shape)\n",
        "# samplerate = data.attrs['samplerate_x_Hz']\n",
        "\n",
        "# model = dss.utils.load_model(save_name, dss.models.model_dict, from_epoch=False)\n",
        "# x_test, y_test, y_pred = dss.evaluate.evaluate_probabilities(data['test']['x'], data['test']['y'], model, params, verbose=1)\n",
        "\n",
        "# y_pred_pulse = y_pred[:, [0, 2]]\n",
        "# y_pred_sine = y_pred[:, [0, 1]]\n",
        "\n",
        "# labels_pred_pulse = dss.predict.labels_from_probabilities(y_pred_pulse, threshold=0.90)\n",
        "# pulsetimes_pred, _ = dss.event_utils.detect_events(labels_pred_pulse, thres=0.90, min_dist=100)\n",
        "\n",
        "# labels_pred_sine = dss.predict.labels_from_probabilities(y_pred_sine)\n",
        "# labels_pred_sine = (labels_pred_sine>0).astype(np.float)\n",
        "\n",
        "# gap_dur = 20 / 1000 * samplerate  # 20 ms\n",
        "# labels_pred_sine = fill_gaps(labels_pred_sine, gap_dur)\n",
        "# min_len = 20 / 1000 * samplerate  # 20 ms\n",
        "# labels_pred_sine = remove_short(labels_pred_sine, min_len)\n",
        "\n",
        "# win_hw = 100\n",
        "# idx = minimum_filter1d(labels_pred_sine, size=2*win_hw)\n",
        "# sinetimes_pred = np.where(idx)[0][::2*win_hw]\n",
        "\n",
        "# recording=x_test\n",
        "# pulse_times=pulsetimes_pred\n",
        "# np.savez_compressed('data/flies.npz', \n",
        "#                     recording=x_test,\n",
        "#                     pulsetimes=pulsetimes_pred,\n",
        "#                     sinetimes=sinetimes_pred,\n",
        "#                     samplerate=samplerate)"
      ],
      "outputs": [],
      "execution_count": null,
      "metadata": {
        "execution": {
          "iopub.status.busy": "2020-08-27T08:13:23.137Z",
          "iopub.execute_input": "2020-08-27T08:13:23.142Z",
          "iopub.status.idle": "2020-08-27T08:13:23.190Z",
          "shell.execute_reply": "2020-08-27T08:13:23.215Z"
        },
        "tags": []
      }
    },
    {
      "cell_type": "code",
      "execution_count": null,
      "metadata": {},
      "outputs": [],
      "source": [
        "# data from D Stern (2014). Reported Drosophila courtship song rhythms are artifacts of data analysis. BMC Biology. https://www.janelia.org/lab/stern-lab/tools-reagents-data\n",
        "url = 'https://github.com/janclemenslab/deepss-unsupervised/releases/download/v0.4/flies.npz'\n",
        "with urllib.request.urlopen(url) as f:\n",
        "    ff = BytesIO(f.read())\n",
        "\n",
        "d = np.load(ff)\n",
        "recording = d['recording']\n",
        "pulsetimes = d['pulsetimes']\n",
        "sinetimes = d['sinetimes']\n",
        "samplerate = d['samplerate']"
      ]
    },
    {
      "cell_type": "code",
      "source": [
        "win_hw = 100\n",
        "pulseshapes = deepss_unsupervised.event_utils.get_shapes(pulsetimes + win_hw, recording, win_hw)\n",
        "pulseshapes = np.apply_along_axis(deepss_unsupervised.event_utils.normalize, axis=-1, arr=pulseshapes.T).T\n",
        "pulseshapes = pulseshapes[25:-25]\n",
        "\n",
        "sineshapes = deepss_unsupervised.event_utils.get_shapes(sinetimes + 2*win_hw, recording, win_hw)\n",
        "sineshapes = np.apply_along_axis(deepss_unsupervised.event_utils.normalize, axis=-1, arr=sineshapes.T).T\n",
        "sineshapes = sineshapes[25:-25]\n",
        "\n",
        "good_shapes = np.sum((sineshapes==0).astype(np.float), axis=0)<10\n",
        "sineshapes = sineshapes[:, good_shapes]\n",
        "\n",
        "allshapes = np.concatenate((pulseshapes, sineshapes), axis=1)\n",
        "print('Pulses:', pulseshapes.shape, 'sines:', sineshapes.shape, 'all:', allshapes.shape)\n",
        "good_shapes = np.sum((sineshapes==0).astype(np.float), axis=0)<10\n",
        "sineshapes = sineshapes[:, good_shapes]\n",
        "\n",
        "plt.figure(figsize=(8, 3))\n",
        "plt.subplot(121)\n",
        "plt.plot(pulseshapes, linewidth=0.5, alpha=0.2)\n",
        "plt.title('Pulses')\n",
        "\n",
        "plt.subplot(122)\n",
        "plt.plot(sineshapes, linewidth=0.5, alpha=0.2)\n",
        "plt.title('Sines')\n",
        "plt.show()"
      ],
      "outputs": [],
      "execution_count": null,
      "metadata": {
        "tags": [],
        "execution": {
          "iopub.status.busy": "2020-08-27T08:13:51.431Z",
          "iopub.execute_input": "2020-08-27T08:13:51.437Z",
          "iopub.status.idle": "2020-08-27T08:13:52.063Z",
          "shell.execute_reply": "2020-08-27T08:13:52.089Z"
        }
      }
    },
    {
      "cell_type": "code",
      "source": [
        "out = umap.UMAP(min_dist=0.5).fit_transform(allshapes.T)\n",
        "hdbscan_labels = hdbscan.HDBSCAN(min_samples=10, min_cluster_size=20).fit_predict(out)"
      ],
      "outputs": [],
      "execution_count": null,
      "metadata": {
        "execution": {
          "iopub.status.busy": "2020-08-27T08:14:42.462Z",
          "iopub.execute_input": "2020-08-27T08:14:42.472Z",
          "iopub.status.idle": "2020-08-27T08:14:44.310Z",
          "shell.execute_reply": "2020-08-27T08:14:44.319Z"
        }
      }
    },
    {
      "cell_type": "code",
      "source": [
        "cols = 'rgb'\n",
        "\n",
        "plt.figure(figsize=(10, 5))\n",
        "for label in np.unique(hdbscan_labels):\n",
        "    if label>=0:\n",
        "        this = hdbscan_labels==label\n",
        "        \n",
        "        plt.subplot(121)\n",
        "        plt.scatter(out[this,0], out[this,1], c=cols[label], s=8, alpha=0.5, edgecolor='none')\n",
        "        plt.xlabel('UMAP 1')\n",
        "        plt.ylabel('UMAP 2')\n",
        "        \n",
        "        plt.subplot(222)\n",
        "        plt.plot(allshapes[:, this], c=cols[label], alpha=0.2, linewidth=0.1)\n",
        "        plt.ylim(-0.5, 0.5)\n",
        "        plt.title('Individual shapes')\n",
        "        \n",
        "        plt.subplot(224)\n",
        "        plt.plot(np.mean(allshapes[:, this], axis=1), c=cols[label])\n",
        "        plt.ylim(-0.25, 0.3)\n",
        "        plt.title('Centroid shapes')\n",
        "        \n",
        "plt.axhline(0, c='k')\n"
      ],
      "outputs": [],
      "execution_count": null,
      "metadata": {
        "execution": {
          "iopub.status.busy": "2020-08-27T08:15:46.603Z",
          "iopub.execute_input": "2020-08-27T08:15:46.609Z",
          "iopub.status.idle": "2020-08-27T08:15:47.465Z",
          "shell.execute_reply": "2020-08-27T08:15:47.476Z"
        }
      }
    },
    {
      "cell_type": "code",
      "execution_count": null,
      "metadata": {},
      "outputs": [],
      "source": []
    }
  ],
  "metadata": {
    "kernel_info": {
      "name": "python3"
    },
    "kernelspec": {
      "name": "Python 3.7.6 64-bit",
      "display_name": "Python 3.7.6 64-bit",
      "metadata": {
        "interpreter": {
          "hash": "42df7aaa307b3506d99484152dfd1c256295c30fa6feab510c0ef1b997889cdc"
        }
      }
    },
    "language_info": {
      "name": "python",
      "version": "3.7.6-final",
      "mimetype": "text/x-python",
      "codemirror_mode": {
        "name": "ipython",
        "version": 3
      },
      "pygments_lexer": "ipython3",
      "nbconvert_exporter": "python",
      "file_extension": ".py"
    },
    "nteract": {
      "version": "0.24.1"
    }
  },
  "nbformat": 4,
  "nbformat_minor": 4
}