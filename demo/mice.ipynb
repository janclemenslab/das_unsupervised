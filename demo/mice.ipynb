{
  "cells": [
    {
      "cell_type": "code",
      "source": [
        "import numpy as np\n",
        "import matplotlib\n",
        "import matplotlib.pyplot as plt\n",
        "import librosa.feature\n",
        "import colorcet as cc\n",
        "import umap\n",
        "from scipy.cluster.vq import kmeans2\n",
        "import deepss_unsupervised.spec_utils\n",
        "from io import BytesIO\n",
        "import urllib.request\n",
        "\n",
        "plt.style.use('ncb.mplstyle')"
      ],
      "outputs": [],
      "execution_count": null,
      "metadata": {
        "execution": {
          "iopub.status.busy": "2020-08-27T09:07:52.075Z",
          "iopub.execute_input": "2020-08-27T09:07:52.082Z",
          "iopub.status.idle": "2020-08-27T09:07:55.043Z",
          "shell.execute_reply": "2020-08-27T09:07:55.069Z"
        }
      }
    },
    {
      "cell_type": "code",
      "source": [
        "# import dss.npy_dir\n",
        "# data = dss.npy_dir.load('/Volumes/shinkansen/Dropbox/dss.paper/dat/mice_06.npy')\n",
        "# fs = data.attrs['samplerate_x_Hz']\n",
        "# x = np.concatenate((data['train']['x'][:, 0], data['test']['x'][:, 0], data['val']['x'][:, 0]))\n",
        "# y = np.concatenate((data['train']['y'][:, 1], data['test']['y'][:, 1], data['val']['y'][:, 1]))\n",
        "# diff = np.diff((y>0).astype(np.double))\n",
        "\n",
        "# onsets = np.where(diff==1)[0]\n",
        "# offsets = np.where(diff==-1)[0]\n",
        "# np.savez_compressed('data/mice.npz', recording=x, samplerate=fs, \n",
        "#                     syllable_onsets=onsets.astype(np.intp),\n",
        "#                     syllable_offsets=offsets.astype(np.intp))  # data by K. Hammerschmidt"
      ],
      "outputs": [],
      "execution_count": null,
      "metadata": {
        "execution": {
          "iopub.status.busy": "2020-08-27T09:07:56.680Z",
          "iopub.execute_input": "2020-08-27T09:07:56.687Z",
          "shell.execute_reply": "2020-08-27T09:07:56.788Z",
          "iopub.status.idle": "2020-08-27T09:07:56.795Z"
        }
      }
    },
    {
      "cell_type": "code",
      "execution_count": null,
      "metadata": {},
      "outputs": [],
      "source": [
        "url = 'https://github.com/postpop/deepss-unsupervised/releases/download/data_v1.0/mice.npz'\n",
        "with urllib.request.urlopen(url) as f:\n",
        "    ff = BytesIO(f.read())\n",
        "\n",
        "d = np.load(ff)\n",
        "samplerate = d['samplerate']\n",
        "recording = d['recording']\n",
        "syllable_onsets = d['syllable_onsets']\n",
        "syllable_offsets = d['syllable_offsets']"
      ]
    },
    {
      "cell_type": "code",
      "source": [
        "n_fft = 2048\n",
        "hop_length = int(samplerate / 1000)\n",
        "\n",
        "specgram = librosa.feature.melspectrogram(recording, sr=samplerate, n_fft=n_fft, hop_length=hop_length, power=1, fmin=40_000)\n",
        "freqs = librosa.core.mel_frequencies(n_mels=specgram.shape[0], fmin=40_000, fmax=int(samplerate/2), htk=False)\n",
        "sm = np.median(specgram, axis=1)\n",
        "print(sm.shape)\n"
      ],
      "outputs": [],
      "execution_count": null,
      "metadata": {
        "tags": [],
        "execution": {
          "iopub.status.busy": "2020-08-27T09:07:57.138Z",
          "iopub.execute_input": "2020-08-27T09:07:57.144Z",
          "iopub.status.idle": "2020-08-27T09:08:06.680Z",
          "shell.execute_reply": "2020-08-27T09:08:06.708Z"
        }
      }
    },
    {
      "cell_type": "code",
      "execution_count": null,
      "metadata": {},
      "outputs": [],
      "source": [
        "plt.figure(figsize=(20, 4))\n",
        "plt.imshow(np.log2(specgram[:, int(syllable_onsets[1]/hop_length)-10:int(syllable_offsets[4]/hop_length)+10]), cmap='cet_CET_L17')\n",
        "for onset, offset in zip(syllable_onsets[1:5], syllable_offsets[1:5]):\n",
        "    plt.axvline((onset-syllable_onsets[1])/hop_length + 10, c='k')\n",
        "    plt.axvline((offset-syllable_onsets[1])/hop_length + 10, c='k')"
      ]
    },
    {
      "cell_type": "code",
      "source": [
        "specs = [] \n",
        "\n",
        "plt.figure(figsize=(10, 10))\n",
        "for cnt, (onset, offset) in enumerate(zip(syllable_onsets, syllable_offsets)):\n",
        "    spec = np.log2(specgram[:, int(onset/hop_length):int(offset/hop_length)]/ sm[:,np.newaxis])\n",
        "    spec = spec[15:-10, :]\n",
        "    spec[spec<0] = 0\n",
        "    specs.append(spec)\n",
        "    try:\n",
        "        plt.subplot(4,4,cnt+1)\n",
        "        plt.imshow(spec, cmap='jet')\n",
        "        plt.xlim(0, 50)\n",
        "        plt.colorbar()\n",
        "    except:\n",
        "        pass"
      ],
      "outputs": [],
      "execution_count": null,
      "metadata": {
        "execution": {
          "iopub.status.busy": "2020-08-27T09:08:06.687Z",
          "iopub.execute_input": "2020-08-27T09:08:06.691Z",
          "iopub.status.idle": "2020-08-27T09:08:09.469Z",
          "shell.execute_reply": "2020-08-27T09:08:09.510Z"
        }
      }
    },
    {
      "cell_type": "code",
      "source": [
        "spec_rs = [deepss_unsupervised.spec_utils.log_resize_spec(spec, scaling_factor=8) for spec in specs]\n",
        "\n",
        "max_len = np.max([spec.shape[1] for spec in spec_rs])\n",
        "print(max_len)\n",
        "spec_rs = [deepss_unsupervised.spec_utils.pad_spec(spec, pad_length=max_len) for spec in spec_rs]\n",
        "plt.figure(figsize=(10, 10))\n",
        "for cnt, spc in enumerate(spec_rs[:16]):\n",
        "    plt.subplot(4,4,cnt+1)\n",
        "    plt.imshow(spc, cmap='turbo')\n",
        "    plt.xlim(0, 50)\n"
      ],
      "outputs": [],
      "execution_count": null,
      "metadata": {
        "tags": [],
        "execution": {
          "iopub.status.busy": "2020-08-27T09:08:09.498Z",
          "iopub.execute_input": "2020-08-27T09:08:09.504Z",
          "iopub.status.idle": "2020-08-27T09:08:10.511Z",
          "shell.execute_reply": "2020-08-27T09:08:10.545Z"
        }
      }
    },
    {
      "cell_type": "code",
      "source": [
        "offset = 20\n",
        "spec_rs_c = [deepss_unsupervised.spec_utils.center_spec(spec, halfwidth=offset) for spec in spec_rs]\n",
        "spec_rs_c = np.array(spec_rs_c)"
      ],
      "outputs": [],
      "execution_count": null,
      "metadata": {
        "collapsed": true,
        "jupyter": {
          "source_hidden": false,
          "outputs_hidden": false
        },
        "nteract": {
          "transient": {
            "deleting": false
          }
        },
        "execution": {
          "iopub.status.busy": "2020-08-27T09:08:10.519Z",
          "iopub.execute_input": "2020-08-27T09:08:10.523Z",
          "iopub.status.idle": "2020-08-27T09:08:10.559Z",
          "shell.execute_reply": "2020-08-27T09:08:10.614Z"
        }
      }
    },
    {
      "cell_type": "code",
      "source": [
        "spec_flat = [spec.ravel() for spec in spec_rs_c]\n",
        "spec_flat = np.array(spec_flat)"
      ],
      "outputs": [],
      "execution_count": null,
      "metadata": {
        "collapsed": true,
        "jupyter": {
          "source_hidden": false,
          "outputs_hidden": false
        },
        "nteract": {
          "transient": {
            "deleting": false
          }
        },
        "execution": {
          "iopub.status.busy": "2020-08-27T09:08:10.569Z",
          "iopub.execute_input": "2020-08-27T09:08:10.575Z",
          "iopub.status.idle": "2020-08-27T09:08:10.584Z",
          "shell.execute_reply": "2020-08-27T09:08:10.618Z"
        }
      }
    },
    {
      "cell_type": "code",
      "source": [
        "out = umap.UMAP(min_dist=0.5).fit_transform(spec_flat)"
      ],
      "outputs": [],
      "execution_count": null,
      "metadata": {
        "execution": {
          "iopub.status.busy": "2020-08-27T09:08:10.592Z",
          "iopub.execute_input": "2020-08-27T09:08:10.597Z",
          "iopub.status.idle": "2020-08-27T09:08:19.017Z",
          "shell.execute_reply": "2020-08-27T09:08:19.049Z"
        }
      }
    },
    {
      "cell_type": "code",
      "source": [
        "plt.figure(figsize=(3, 3))\n",
        "plt.scatter(out[:,0], out[:,1], c='k', alpha=0.25, s=8)\n",
        "plt.axis('tight')\n",
        "plt.xlabel('UMAP 1')\n",
        "plt.ylabel('UMAP 2')\n",
        "plt.show()"
      ],
      "outputs": [],
      "execution_count": null,
      "metadata": {
        "execution": {
          "iopub.status.busy": "2020-08-27T09:08:19.025Z",
          "iopub.execute_input": "2020-08-27T09:08:19.031Z",
          "iopub.status.idle": "2020-08-27T09:08:19.139Z",
          "shell.execute_reply": "2020-08-27T09:08:19.168Z"
        }
      }
    },
    {
      "cell_type": "code",
      "source": [
        "# partition umap using kmeans\n",
        "k_centroid, k_labels = kmeans2(out, k=40)"
      ],
      "outputs": [],
      "execution_count": null,
      "metadata": {
        "collapsed": true,
        "jupyter": {
          "source_hidden": false,
          "outputs_hidden": false
        },
        "nteract": {
          "transient": {
            "deleting": false
          }
        },
        "execution": {
          "iopub.status.busy": "2020-08-27T09:08:19.645Z",
          "iopub.execute_input": "2020-08-27T09:08:19.656Z",
          "iopub.status.idle": "2020-08-27T09:08:19.670Z",
          "shell.execute_reply": "2020-08-27T09:08:19.716Z"
        }
      }
    },
    {
      "cell_type": "code",
      "source": [
        "plt.figure(figsize=(3, 3))\n",
        "plt.scatter(out[:,0], out[:,1], c=k_labels, cmap='cet_glasbey_dark', alpha=0.5, s=8, edgecolor='none')\n",
        "plt.axis('tight')\n",
        "plt.xlabel('UMAP 1')\n",
        "plt.ylabel('UMAP 2')\n",
        "plt.show()"
      ],
      "outputs": [],
      "execution_count": null,
      "metadata": {
        "collapsed": true,
        "jupyter": {
          "source_hidden": false,
          "outputs_hidden": false
        },
        "nteract": {
          "transient": {
            "deleting": false
          }
        },
        "execution": {
          "iopub.status.busy": "2020-08-27T09:08:19.687Z",
          "iopub.execute_input": "2020-08-27T09:08:19.697Z",
          "iopub.status.idle": "2020-08-27T09:08:19.875Z",
          "shell.execute_reply": "2020-08-27T09:08:19.927Z"
        }
      }
    },
    {
      "cell_type": "code",
      "source": [
        "fig = plt.figure(figsize=(12, 12))\n",
        "ax = plt.axes()\n",
        "for cnt, (centroid, label) in enumerate(zip(k_centroid, np.unique(k_labels))):\n",
        "    idx = np.where(k_labels==label)[0]\n",
        "    X = np.mean(spec_rs_c[idx], axis=0)\n",
        "    fig.figimage(X=X, xo=centroid[0]*40, yo=centroid[1]*40, cmap='cet_CET_L17')\n"
      ],
      "outputs": [],
      "execution_count": null,
      "metadata": {
        "collapsed": true,
        "jupyter": {
          "source_hidden": false,
          "outputs_hidden": false
        },
        "nteract": {
          "transient": {
            "deleting": false
          }
        },
        "execution": {
          "iopub.status.busy": "2020-08-27T09:08:19.890Z",
          "iopub.execute_input": "2020-08-27T09:08:19.900Z",
          "iopub.status.idle": "2020-08-27T09:08:20.248Z",
          "shell.execute_reply": "2020-08-27T09:08:20.261Z"
        }
      }
    },
    {
      "cell_type": "code",
      "execution_count": null,
      "metadata": {},
      "outputs": [],
      "source": []
    }
  ],
  "metadata": {
    "kernel_info": {
      "name": "python3"
    },
    "kernelspec": {
      "name": "Python 3.7.6 64-bit ('dss_tf21': conda)",
      "display_name": "Python 3.7.6 64-bit ('dss_tf21': conda)",
      "metadata": {
        "interpreter": {
          "hash": "42df7aaa307b3506d99484152dfd1c256295c30fa6feab510c0ef1b997889cdc"
        }
      }
    },
    "language_info": {
      "name": "python",
      "version": "3.7.6-final",
      "mimetype": "text/x-python",
      "codemirror_mode": {
        "name": "ipython",
        "version": 3
      },
      "pygments_lexer": "ipython3",
      "nbconvert_exporter": "python",
      "file_extension": ".py"
    },
    "nteract": {
      "version": "0.24.1"
    }
  },
  "nbformat": 4,
  "nbformat_minor": 4
}